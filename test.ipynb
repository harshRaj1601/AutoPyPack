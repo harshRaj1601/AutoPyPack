{
 "cells": [
  {
   "cell_type": "code",
   "execution_count": null,
   "id": "44df00fe",
   "metadata": {},
   "outputs": [
    {
     "ename": "Fault",
     "evalue": "<Fault -32500: 'RuntimeError: PyPI no longer supports the XMLRPC list_packages method. Use JSON or Simple API instead. See https://warehouse.pypa.io/api-reference/xml-rpc.html#deprecated-methods for more information.'>",
     "output_type": "error",
     "traceback": [
      "\u001b[31m---------------------------------------------------------------------------\u001b[39m",
      "\u001b[31mFileNotFoundError\u001b[39m                         Traceback (most recent call last)",
      "\u001b[36mFile \u001b[39m\u001b[32mc:\\Users\\rajku\\miniconda3\\Lib\\site-packages\\yolk\\pypi.py:118\u001b[39m, in \u001b[36mCheeseShop.get_cache\u001b[39m\u001b[34m(self)\u001b[39m\n\u001b[32m    117\u001b[39m \u001b[38;5;28;01mtry\u001b[39;00m:\n\u001b[32m--> \u001b[39m\u001b[32m118\u001b[39m     \u001b[38;5;28mself\u001b[39m.pkg_list = \u001b[38;5;28;43mself\u001b[39;49m\u001b[43m.\u001b[49m\u001b[43mquery_cached_package_list\u001b[49m\u001b[43m(\u001b[49m\u001b[43m)\u001b[49m\n\u001b[32m    119\u001b[39m \u001b[38;5;28;01mexcept\u001b[39;00m (\u001b[38;5;167;01mIOError\u001b[39;00m, \u001b[38;5;167;01mValueError\u001b[39;00m):\n",
      "\u001b[36mFile \u001b[39m\u001b[32mc:\\Users\\rajku\\miniconda3\\Lib\\site-packages\\yolk\\pypi.py:154\u001b[39m, in \u001b[36mCheeseShop.query_cached_package_list\u001b[39m\u001b[34m(self)\u001b[39m\n\u001b[32m    153\u001b[39m \u001b[38;5;250m\u001b[39m\u001b[33;03m\"\"\"Return list of cached package names from PYPI.\"\"\"\u001b[39;00m\n\u001b[32m--> \u001b[39m\u001b[32m154\u001b[39m \u001b[38;5;28;01mwith\u001b[39;00m \u001b[38;5;28;43mopen\u001b[39;49m\u001b[43m(\u001b[49m\u001b[38;5;28;43mself\u001b[39;49m\u001b[43m.\u001b[49m\u001b[43mpkg_cache_file\u001b[49m\u001b[43m,\u001b[49m\u001b[43m \u001b[49m\u001b[33;43m'\u001b[39;49m\u001b[33;43mr\u001b[39;49m\u001b[33;43m'\u001b[39;49m\u001b[43m)\u001b[49m \u001b[38;5;28;01mas\u001b[39;00m input_file:\n\u001b[32m    155\u001b[39m     \u001b[38;5;28;01mreturn\u001b[39;00m ast.literal_eval(input_file.read())\n",
      "\u001b[31mFileNotFoundError\u001b[39m: [Errno 2] No such file or directory: 'C:\\\\Users\\\\rajku\\\\.yolk\\\\pkg_list.py'",
      "\nDuring handling of the above exception, another exception occurred:\n",
      "\u001b[31mFault\u001b[39m                                     Traceback (most recent call last)",
      "\u001b[36mCell\u001b[39m\u001b[36m \u001b[39m\u001b[32mIn[1]\u001b[39m\u001b[32m, line 4\u001b[39m\n\u001b[32m      1\u001b[39m \u001b[38;5;66;03m# Install with: pip install yolk3k\u001b[39;00m\n\u001b[32m      2\u001b[39m \u001b[38;5;28;01mfrom\u001b[39;00m \u001b[34;01myolk\u001b[39;00m\u001b[34;01m.\u001b[39;00m\u001b[34;01mpypi\u001b[39;00m \u001b[38;5;28;01mimport\u001b[39;00m CheeseShop\n\u001b[32m----> \u001b[39m\u001b[32m4\u001b[39m pypi = \u001b[43mCheeseShop\u001b[49m\u001b[43m(\u001b[49m\u001b[43m)\u001b[49m\n\u001b[32m      5\u001b[39m packages = pypi.search_packages(\u001b[33m\"\u001b[39m\u001b[33mmachine learning\u001b[39m\u001b[33m\"\u001b[39m)\n\u001b[32m      6\u001b[39m \u001b[38;5;28;01mfor\u001b[39;00m pkg \u001b[38;5;129;01min\u001b[39;00m packages[:\u001b[32m5\u001b[39m]:\n",
      "\u001b[36mFile \u001b[39m\u001b[32mc:\\Users\\rajku\\miniconda3\\Lib\\site-packages\\yolk\\pypi.py:105\u001b[39m, in \u001b[36mCheeseShop.__init__\u001b[39m\u001b[34m(self, debug, no_cache, yolk_dir)\u001b[39m\n\u001b[32m    103\u001b[39m \u001b[38;5;28mself\u001b[39m.pkg_cache_file = \u001b[38;5;28mself\u001b[39m.get_pkg_cache_file()\n\u001b[32m    104\u001b[39m \u001b[38;5;28mself\u001b[39m.pkg_list = \u001b[38;5;28;01mNone\u001b[39;00m\n\u001b[32m--> \u001b[39m\u001b[32m105\u001b[39m \u001b[38;5;28;43mself\u001b[39;49m\u001b[43m.\u001b[49m\u001b[43mget_cache\u001b[49m\u001b[43m(\u001b[49m\u001b[43m)\u001b[49m\n",
      "\u001b[36mFile \u001b[39m\u001b[32mc:\\Users\\rajku\\miniconda3\\Lib\\site-packages\\yolk\\pypi.py:120\u001b[39m, in \u001b[36mCheeseShop.get_cache\u001b[39m\u001b[34m(self)\u001b[39m\n\u001b[32m    118\u001b[39m     \u001b[38;5;28mself\u001b[39m.pkg_list = \u001b[38;5;28mself\u001b[39m.query_cached_package_list()\n\u001b[32m    119\u001b[39m \u001b[38;5;28;01mexcept\u001b[39;00m (\u001b[38;5;167;01mIOError\u001b[39;00m, \u001b[38;5;167;01mValueError\u001b[39;00m):\n\u001b[32m--> \u001b[39m\u001b[32m120\u001b[39m     \u001b[38;5;28;43mself\u001b[39;49m\u001b[43m.\u001b[49m\u001b[43mfetch_pkg_list\u001b[49m\u001b[43m(\u001b[49m\u001b[38;5;28;43;01mTrue\u001b[39;49;00m\u001b[43m)\u001b[49m\n",
      "\u001b[36mFile \u001b[39m\u001b[32mc:\\Users\\rajku\\miniconda3\\Lib\\site-packages\\yolk\\pypi.py:159\u001b[39m, in \u001b[36mCheeseShop.fetch_pkg_list\u001b[39m\u001b[34m(self, ignore_cache)\u001b[39m\n\u001b[32m    157\u001b[39m \u001b[38;5;28;01mdef\u001b[39;00m \u001b[34mfetch_pkg_list\u001b[39m(\u001b[38;5;28mself\u001b[39m, ignore_cache=\u001b[38;5;28;01mFalse\u001b[39;00m):\n\u001b[32m    158\u001b[39m \u001b[38;5;250m    \u001b[39m\u001b[33;03m\"\"\"Fetch and cache master list of package names from PYPI.\"\"\"\u001b[39;00m\n\u001b[32m--> \u001b[39m\u001b[32m159\u001b[39m     package_list = \u001b[38;5;28;43mself\u001b[39;49m\u001b[43m.\u001b[49m\u001b[43mlist_packages\u001b[49m\u001b[43m(\u001b[49m\u001b[43m)\u001b[49m\n\u001b[32m    160\u001b[39m     \u001b[38;5;28;01mwith\u001b[39;00m \u001b[38;5;28mopen\u001b[39m(\u001b[38;5;28mself\u001b[39m.pkg_cache_file, \u001b[33m'\u001b[39m\u001b[33mw\u001b[39m\u001b[33m'\u001b[39m) \u001b[38;5;28;01mas\u001b[39;00m output_file:\n\u001b[32m    161\u001b[39m         \u001b[38;5;28mprint\u001b[39m(package_list, file=output_file)\n",
      "\u001b[36mFile \u001b[39m\u001b[32mc:\\Users\\rajku\\miniconda3\\Lib\\site-packages\\yolk\\pypi.py:179\u001b[39m, in \u001b[36mCheeseShop.list_packages\u001b[39m\u001b[34m(self)\u001b[39m\n\u001b[32m    176\u001b[39m \u001b[38;5;28;01mdef\u001b[39;00m \u001b[34mlist_packages\u001b[39m(\u001b[38;5;28mself\u001b[39m):\n\u001b[32m    177\u001b[39m \u001b[38;5;250m    \u001b[39m\u001b[33;03m\"\"\"Query PYPI via XMLRPC interface for a a list of all package\u001b[39;00m\n\u001b[32m    178\u001b[39m \u001b[33;03m    names.\"\"\"\u001b[39;00m\n\u001b[32m--> \u001b[39m\u001b[32m179\u001b[39m     \u001b[38;5;28;01mreturn\u001b[39;00m \u001b[38;5;28;43mself\u001b[39;49m\u001b[43m.\u001b[49m\u001b[43mxmlrpc\u001b[49m\u001b[43m.\u001b[49m\u001b[43mlist_packages\u001b[49m\u001b[43m(\u001b[49m\u001b[43m)\u001b[49m\n",
      "\u001b[36mFile \u001b[39m\u001b[32mc:\\Users\\rajku\\miniconda3\\Lib\\xmlrpc\\client.py:1122\u001b[39m, in \u001b[36m_Method.__call__\u001b[39m\u001b[34m(self, *args)\u001b[39m\n\u001b[32m   1121\u001b[39m \u001b[38;5;28;01mdef\u001b[39;00m \u001b[34m__call__\u001b[39m(\u001b[38;5;28mself\u001b[39m, *args):\n\u001b[32m-> \u001b[39m\u001b[32m1122\u001b[39m     \u001b[38;5;28;01mreturn\u001b[39;00m \u001b[38;5;28;43mself\u001b[39;49m\u001b[43m.\u001b[49m\u001b[43m__send\u001b[49m\u001b[43m(\u001b[49m\u001b[38;5;28;43mself\u001b[39;49m\u001b[43m.\u001b[49m\u001b[43m__name\u001b[49m\u001b[43m,\u001b[49m\u001b[43m \u001b[49m\u001b[43margs\u001b[49m\u001b[43m)\u001b[49m\n",
      "\u001b[36mFile \u001b[39m\u001b[32mc:\\Users\\rajku\\miniconda3\\Lib\\xmlrpc\\client.py:1461\u001b[39m, in \u001b[36mServerProxy.__request\u001b[39m\u001b[34m(self, methodname, params)\u001b[39m\n\u001b[32m   1455\u001b[39m \u001b[38;5;28;01mdef\u001b[39;00m \u001b[34m__request\u001b[39m(\u001b[38;5;28mself\u001b[39m, methodname, params):\n\u001b[32m   1456\u001b[39m     \u001b[38;5;66;03m# call a method on the remote server\u001b[39;00m\n\u001b[32m   1458\u001b[39m     request = dumps(params, methodname, encoding=\u001b[38;5;28mself\u001b[39m.__encoding,\n\u001b[32m   1459\u001b[39m                     allow_none=\u001b[38;5;28mself\u001b[39m.__allow_none).encode(\u001b[38;5;28mself\u001b[39m.__encoding, \u001b[33m'\u001b[39m\u001b[33mxmlcharrefreplace\u001b[39m\u001b[33m'\u001b[39m)\n\u001b[32m-> \u001b[39m\u001b[32m1461\u001b[39m     response = \u001b[38;5;28;43mself\u001b[39;49m\u001b[43m.\u001b[49m\u001b[43m__transport\u001b[49m\u001b[43m.\u001b[49m\u001b[43mrequest\u001b[49m\u001b[43m(\u001b[49m\n\u001b[32m   1462\u001b[39m \u001b[43m        \u001b[49m\u001b[38;5;28;43mself\u001b[39;49m\u001b[43m.\u001b[49m\u001b[43m__host\u001b[49m\u001b[43m,\u001b[49m\n\u001b[32m   1463\u001b[39m \u001b[43m        \u001b[49m\u001b[38;5;28;43mself\u001b[39;49m\u001b[43m.\u001b[49m\u001b[43m__handler\u001b[49m\u001b[43m,\u001b[49m\n\u001b[32m   1464\u001b[39m \u001b[43m        \u001b[49m\u001b[43mrequest\u001b[49m\u001b[43m,\u001b[49m\n\u001b[32m   1465\u001b[39m \u001b[43m        \u001b[49m\u001b[43mverbose\u001b[49m\u001b[43m=\u001b[49m\u001b[38;5;28;43mself\u001b[39;49m\u001b[43m.\u001b[49m\u001b[43m__verbose\u001b[49m\n\u001b[32m   1466\u001b[39m \u001b[43m        \u001b[49m\u001b[43m)\u001b[49m\n\u001b[32m   1468\u001b[39m     \u001b[38;5;28;01mif\u001b[39;00m \u001b[38;5;28mlen\u001b[39m(response) == \u001b[32m1\u001b[39m:\n\u001b[32m   1469\u001b[39m         response = response[\u001b[32m0\u001b[39m]\n",
      "\u001b[36mFile \u001b[39m\u001b[32mc:\\Users\\rajku\\miniconda3\\Lib\\site-packages\\yolk\\pypi.py:67\u001b[39m, in \u001b[36mProxyTransport.request\u001b[39m\u001b[34m(self, host, handler, request_body, verbose)\u001b[39m\n\u001b[32m     65\u001b[39m opener = urllib2.build_opener(proxy_handler)\n\u001b[32m     66\u001b[39m fhandle = opener.open(request)\n\u001b[32m---> \u001b[39m\u001b[32m67\u001b[39m \u001b[38;5;28;01mreturn\u001b[39;00m \u001b[38;5;28;43mself\u001b[39;49m\u001b[43m.\u001b[49m\u001b[43mparse_response\u001b[49m\u001b[43m(\u001b[49m\u001b[43mfhandle\u001b[49m\u001b[43m)\u001b[49m\n",
      "\u001b[36mFile \u001b[39m\u001b[32mc:\\Users\\rajku\\miniconda3\\Lib\\xmlrpc\\client.py:1351\u001b[39m, in \u001b[36mTransport.parse_response\u001b[39m\u001b[34m(self, response)\u001b[39m\n\u001b[32m   1348\u001b[39m     stream.close()\n\u001b[32m   1349\u001b[39m p.close()\n\u001b[32m-> \u001b[39m\u001b[32m1351\u001b[39m \u001b[38;5;28;01mreturn\u001b[39;00m \u001b[43mu\u001b[49m\u001b[43m.\u001b[49m\u001b[43mclose\u001b[49m\u001b[43m(\u001b[49m\u001b[43m)\u001b[49m\n",
      "\u001b[36mFile \u001b[39m\u001b[32mc:\\Users\\rajku\\miniconda3\\Lib\\xmlrpc\\client.py:668\u001b[39m, in \u001b[36mUnmarshaller.close\u001b[39m\u001b[34m(self)\u001b[39m\n\u001b[32m    666\u001b[39m     \u001b[38;5;28;01mraise\u001b[39;00m ResponseError()\n\u001b[32m    667\u001b[39m \u001b[38;5;28;01mif\u001b[39;00m \u001b[38;5;28mself\u001b[39m._type == \u001b[33m\"\u001b[39m\u001b[33mfault\u001b[39m\u001b[33m\"\u001b[39m:\n\u001b[32m--> \u001b[39m\u001b[32m668\u001b[39m     \u001b[38;5;28;01mraise\u001b[39;00m Fault(**\u001b[38;5;28mself\u001b[39m._stack[\u001b[32m0\u001b[39m])\n\u001b[32m    669\u001b[39m \u001b[38;5;28;01mreturn\u001b[39;00m \u001b[38;5;28mtuple\u001b[39m(\u001b[38;5;28mself\u001b[39m._stack)\n",
      "\u001b[31mFault\u001b[39m: <Fault -32500: 'RuntimeError: PyPI no longer supports the XMLRPC list_packages method. Use JSON or Simple API instead. See https://warehouse.pypa.io/api-reference/xml-rpc.html#deprecated-methods for more information.'>"
     ]
    }
   ],
   "source": [
    "import requests\n",
    "\n",
    "def get_pypi_stats():\n",
    "    url = \"https://pypistats.org/api/stats\"\n",
    "    response = requests.get(url)\n",
    "    if response.status_code == 200:\n",
    "        return response.json()\n",
    "    return None"
   ]
  },
  {
   "cell_type": "code",
   "execution_count": 17,
   "id": "dad473f4",
   "metadata": {},
   "outputs": [
    {
     "ename": "ModuleNotFoundError",
     "evalue": "No module named 'skorch'",
     "output_type": "error",
     "traceback": [
      "\u001b[31m---------------------------------------------------------------------------\u001b[39m",
      "\u001b[31mModuleNotFoundError\u001b[39m                       Traceback (most recent call last)",
      "\u001b[36mCell\u001b[39m\u001b[36m \u001b[39m\u001b[32mIn[17]\u001b[39m\u001b[32m, line 2\u001b[39m\n\u001b[32m      1\u001b[39m \u001b[38;5;28;01mimport\u001b[39;00m \u001b[34;01mAutoPylot\u001b[39;00m\n\u001b[32m----> \u001b[39m\u001b[32m2\u001b[39m \u001b[38;5;28;01mimport\u001b[39;00m \u001b[34;01mskorch\u001b[39;00m\n",
      "\u001b[31mModuleNotFoundError\u001b[39m: No module named 'skorch'"
     ]
    }
   ],
   "source": [
    "import AutoPylot\n",
    "import skorch\n"
   ]
  },
  {
   "cell_type": "code",
   "execution_count": null,
   "id": "801b31c6",
   "metadata": {},
   "outputs": [],
   "source": []
  }
 ],
 "metadata": {
  "kernelspec": {
   "display_name": "base",
   "language": "python",
   "name": "python3"
  },
  "language_info": {
   "codemirror_mode": {
    "name": "ipython",
    "version": 3
   },
   "file_extension": ".py",
   "mimetype": "text/x-python",
   "name": "python",
   "nbconvert_exporter": "python",
   "pygments_lexer": "ipython3",
   "version": "3.12.9"
  }
 },
 "nbformat": 4,
 "nbformat_minor": 5
}
